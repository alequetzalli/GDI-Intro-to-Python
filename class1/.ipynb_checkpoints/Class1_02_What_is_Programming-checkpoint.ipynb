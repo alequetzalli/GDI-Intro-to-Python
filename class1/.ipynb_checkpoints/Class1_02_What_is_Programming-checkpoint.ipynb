{
 "cells": [
  {
   "cell_type": "markdown",
   "metadata": {},
   "source": [
    "What is programming?\n",
    "====================\n",
    "\n",
    "- Teaching the computer to do a task\n",
    "- A program is made of one or more files of code, each of which solve part of the overall task\n",
    "- Programming code is human readable but also needs a form that the computer can run directly. This form is not human readable.\n",
    "- To create the form of code the computer can use, we use the Python interpreter\n",
    "- Other languages use other interpreters or a compiler\n",
    "- Don't focus on what's \"under the hood\" for now. We will \"drive the car\" first\n",
    "- In other words, there are many layers to the onion. We start at one layer and slowly move toward layers that are beneath or above us\n"
   ]
  },
  {
   "cell_type": "markdown",
   "metadata": {},
   "source": [
    "Don't be afraid of programming\n",
    "==============================\n",
    "\n",
    "Things we will go through over the 4 weeks:\n",
    "\n",
    "1. Variables\n",
    "\n",
    "2. Operators\n",
    "\n",
    "3. Data Structures\n",
    "\n",
    "4. Conditionals and Loops\n",
    "\n",
    "5. Functions and methods\n",
    "\n",
    "Don't be scared by syntax! According to this slide by [Tom Meagher](https://twitter.com/ultracasual), if you've used Excel, you are part way there!\n",
    "\n",
    "![title](img/excel_coding.jpg)\n"
   ]
  },
  {
   "cell_type": "markdown",
   "metadata": {},
   "source": [
    "What tools will we use for programming in Python?\n",
    "=================================================\n",
    "\n",
    "- Interpreter\n",
    "\n",
    "- Text Editor or Interactive Development Environment (IDE)\n",
    "\n",
    "- Command Line\n",
    "\n",
    "First we will be using Jupyter Notebooks, which can combine all three!\n",
    "\n",
    "Let's start learning some Python and along the way we can learn how use iPython and Jupyter Notebooks!\n",
    "\n",
    "[iPython reference and documentation](http://ipython.readthedocs.io/en/stable/interactive/reference.html)\n",
    "\n",
    "[Jupyter reference and examples with iPython](https://jupyter.readthedocs.io/en/latest/projects/ipython_projects.html)"
   ]
  }
 ],
 "metadata": {
  "kernelspec": {
   "display_name": "py35",
   "language": "python",
   "name": "py35"
  },
  "language_info": {
   "codemirror_mode": {
    "name": "ipython",
    "version": 3
   },
   "file_extension": ".py",
   "mimetype": "text/x-python",
   "name": "python",
   "nbconvert_exporter": "python",
   "pygments_lexer": "ipython3",
   "version": "3.5.1"
  }
 },
 "nbformat": 4,
 "nbformat_minor": 0
}
