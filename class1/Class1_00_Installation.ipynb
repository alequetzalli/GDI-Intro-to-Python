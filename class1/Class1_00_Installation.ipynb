{
 "cells": [
  {
   "cell_type": "markdown",
   "metadata": {},
   "source": [
    "Welcome!\n",
    "========\n",
    "\n",
    "Girl Develop It is here to provide affordable and accessible programs to learn software through mentorship and hands-on instruction.\n",
    "\n",
    "Some \"rules\"\n",
    "\n",
    "- We are here for you!\n",
    "\n",
    "- Every question is important\n",
    "\n",
    "- Help each other\n",
    "\n",
    "- Have fun\n",
    "\n",
    "\n",
    "\n",
    "\n",
    "\n",
    "What We Will Cover Today\n",
    "\n",
    "- Why Python?\n",
    "\n",
    "- What is programming?\n",
    "\n",
    "- Variables and arithmetic\n",
    "\n",
    "- Datatypes and Error Messages\n",
    " \n",
    "\n",
    "\n",
    "Installation\n",
    "============\n",
    "\n",
    "\n",
    "*If you already have Python installed on your machine, you don't have to install this version. I do encourage you to start using Python3.5 and Anaconda, but it is not 100% necessary for this class.*\n",
    "\n",
    "We will use Python3.5\n",
    "Continuum Analytics makes python distributions that include modules for scientific computing. We will use a lightweight version of this distribution called Miniconda."
   ]
  },
  {
   "cell_type": "markdown",
   "metadata": {},
   "source": [
    "Go to the [Miniconda Installation Page](http://conda.pydata.org/miniconda.html) and pick the Python 3.5 installer for your operating system. "
   ]
  },
  {
   "cell_type": "markdown",
   "metadata": {},
   "source": [
    "Run the installer"
   ]
  },
  {
   "cell_type": "markdown",
   "metadata": {},
   "source": [
    "Now we want to install Jupyter notebooks so that we can run the class notebooks"
   ]
  },
  {
   "cell_type": "markdown",
   "metadata": {},
   "source": [
    "Open a command line window (Terminal on Mac or Powershell on Windows). At the command line type"
   ]
  },
  {
   "cell_type": "markdown",
   "metadata": {},
   "source": [
    "> conda install jupyter"
   ]
  },
  {
   "cell_type": "markdown",
   "metadata": {
    "collapsed": true
   },
   "source": [
    "Choose download as zip from the [notebook directory from Wendy's Github page](https://github.com/wgrus/GDI-Intro-to-Python). Save the download in a place you can maneuver to from your command line (in a directory on the desktop is a good choice.) Unzip the directory.\n",
    "\n",
    "Open up the command line window again (or use the same one if you didn't close it). Maneuver to the directory containing the notebooks. At the command line type\n",
    "\n",
    "> jupyter notebook"
   ]
  },
  {
   "cell_type": "markdown",
   "metadata": {},
   "source": [
    "You should see a directory open up in Jupyter notebook in your browser!\n",
    "\n",
    "[If we run into problems for people who already have python2](http://conda.pydata.org/docs/py2or3.html)\n",
    "\n",
    "[We shouldn't need this, but just in case](http://ipython.readthedocs.io/en/stable/install/kernel_install.html)"
   ]
  },
  {
   "cell_type": "code",
   "execution_count": null,
   "metadata": {
    "collapsed": true
   },
   "outputs": [],
   "source": []
  }
 ],
 "metadata": {
  "kernelspec": {
   "display_name": "py35",
   "language": "python",
   "name": "py35"
  },
  "language_info": {
   "codemirror_mode": {
    "name": "ipython",
    "version": 3
   },
   "file_extension": ".py",
   "mimetype": "text/x-python",
   "name": "python",
   "nbconvert_exporter": "python",
   "pygments_lexer": "ipython3",
   "version": "3.5.1"
  }
 },
 "nbformat": 4,
 "nbformat_minor": 0
}
