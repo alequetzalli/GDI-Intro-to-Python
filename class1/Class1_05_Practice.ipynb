{
 "cells": [
  {
   "cell_type": "markdown",
   "metadata": {},
   "source": [
    "Let's play around with some code!\n",
    "================================="
   ]
  },
  {
   "cell_type": "markdown",
   "metadata": {
    "collapsed": false
   },
   "source": [
    "a = 35\n",
    "\n",
    "b = 47\n",
    "\n",
    "c = a + b\n",
    "\n",
    "print(a, '+', b, '=', c)"
   ]
  },
  {
   "cell_type": "code",
   "execution_count": null,
   "metadata": {
    "collapsed": true
   },
   "outputs": [],
   "source": []
  },
  {
   "cell_type": "markdown",
   "metadata": {},
   "source": [
    "Maybe we don't want to hardcode values. We can use the input() function to make this little program less strict!"
   ]
  },
  {
   "cell_type": "markdown",
   "metadata": {
    "collapsed": true
   },
   "source": [
    "a = input('Please enter the first number')\n",
    "\n",
    "b = input('Please enter the second number')\n",
    "\n",
    "c = a + b\n",
    "\n",
    "print(a, '+', b, '=', c)"
   ]
  },
  {
   "cell_type": "code",
   "execution_count": null,
   "metadata": {
    "collapsed": false
   },
   "outputs": [],
   "source": []
  },
  {
   "cell_type": "markdown",
   "metadata": {},
   "source": [
    "Oh no! What happened? What kind of error is this? How can we fix it?\n",
    "What would have happened if 'c = a - b'? Change the cell and see if you are right!"
   ]
  },
  {
   "cell_type": "markdown",
   "metadata": {},
   "source": [
    "How about we try the area of a circle!"
   ]
  },
  {
   "cell_type": "markdown",
   "metadata": {
    "collapsed": true
   },
   "source": [
    "input_value = input('Enter a radius:') \n",
    "\n",
    "radius = float(input_value)\n",
    "\n",
    "area = 3.14159 \\* radius \\*\\* 2\n",
    "\n",
    "print('The area of a circle with radius', input_value, 'is:', area)\n"
   ]
  },
  {
   "cell_type": "code",
   "execution_count": null,
   "metadata": {
    "collapsed": true
   },
   "outputs": [],
   "source": []
  },
  {
   "cell_type": "markdown",
   "metadata": {},
   "source": [
    "Further Reading\n",
    "===============\n",
    "\n",
    "[Why choose Python](https://www.codefellows.org/blog/5-reasons-why-python-is-powerful-enough-for-google)\n",
    "\n",
    "[What do you use Python for](http://www.reddit.com/r/Python/comments/1r1yke/what_do_you_use_python_for/)\n",
    "\n",
    "[Python is the most popular introductory teaching language](http://cacm.acm.org/blogs/blog-cacm/176450-python-is-now-the-most-popular-introductory-teaching-language-at-top-us-universities/fulltext)"
   ]
  }
 ],
 "metadata": {
  "kernelspec": {
   "display_name": "py35",
   "language": "python",
   "name": "py35"
  },
  "language_info": {
   "codemirror_mode": {
    "name": "ipython",
    "version": 3
   },
   "file_extension": ".py",
   "mimetype": "text/x-python",
   "name": "python",
   "nbconvert_exporter": "python",
   "pygments_lexer": "ipython3",
   "version": "3.5.1"
  }
 },
 "nbformat": 4,
 "nbformat_minor": 0
}
